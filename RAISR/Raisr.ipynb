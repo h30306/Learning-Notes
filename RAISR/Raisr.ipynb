{
 "cells": [
  {
   "cell_type": "code",
   "execution_count": 5,
   "metadata": {},
   "outputs": [],
   "source": [
    "import numpy as np\n",
    "import cv2\n",
    "import matplotlib.pyplot as plt\n",
    "import os\n",
    "from hashTable import hashTable\n",
    "from tqdm import tqdm"
   ]
  },
  {
   "cell_type": "code",
   "execution_count": 2,
   "metadata": {},
   "outputs": [],
   "source": [
    "Qangle = 24\n",
    "Qstrenth = 3\n",
    "Qcoherence = 3"
   ]
  },
  {
   "cell_type": "code",
   "execution_count": 31,
   "metadata": {},
   "outputs": [],
   "source": [
    "dir_ = \"./predict_data\"\n",
    "filenames = os.listdir(dir_)"
   ]
  },
  {
   "cell_type": "code",
   "execution_count": null,
   "metadata": {},
   "outputs": [
    {
     "name": "stderr",
     "output_type": "stream",
     "text": [
      "\r",
      "  0%|          | 0/2149 [00:00<?, ?it/s]"
     ]
    },
    {
     "name": "stdout",
     "output_type": "stream",
     "text": [
      "2.jpg\n"
     ]
    },
    {
     "name": "stderr",
     "output_type": "stream",
     "text": [
      "100%|██████████| 2149/2149 [25:51<00:00,  1.42it/s]\n",
      "  0%|          | 0/2149 [00:00<?, ?it/s]"
     ]
    },
    {
     "name": "stdout",
     "output_type": "stream",
     "text": [
      "1.jpg\n"
     ]
    },
    {
     "name": "stderr",
     "output_type": "stream",
     "text": [
      " 57%|█████▋    | 1233/2149 [14:23<10:38,  1.43it/s]"
     ]
    }
   ],
   "source": [
    "for filename in filenames :\n",
    "    print(filename)\n",
    "    mat = cv2.imread(\"./predict_data/{}\".format(filename))\n",
    "    h = np.load(\"lowR2.npy\")\n",
    "    #h = np.load(\"Filters.npy\")\n",
    "\n",
    "    mat = cv2.cvtColor(mat, cv2.COLOR_BGR2YCrCb)[:,:,2]\n",
    "    # LR = cv2.resize(LuminanceMat,(0,0),fx=0.5,fy=0.5)\n",
    "    # LR = cv2.GaussianBlur(LR,(0,0),2)\n",
    "\n",
    "    # Upscaling\n",
    "    LR = cv2.resize(mat,(0,0),fx=2,fy=2)\n",
    "\n",
    "    LRDirect = np.zeros((LR.shape[0],LR.shape[1]))\n",
    "    for xP in tqdm(range(5,LR.shape[0]-6)):\n",
    "        for yP in range(5,LR.shape[1]-6):\n",
    "            patch = LR[xP-5:xP+6,yP-5:yP+6]\n",
    "            [angle,strenth,coherence] = hashTable(patch,Qangle,Qstrenth,Qcoherence)\n",
    "            j = angle*9+strenth*3+coherence\n",
    "            A = patch.reshape(1,-1)\n",
    "            t = xP%2*2+yP%2\n",
    "            hh = np.matrix(h[j,t])\n",
    "            LRDirect[xP][yP] = hh*A.T\n",
    "\n",
    "    # Show the result\n",
    "    #mat = cv2.imread(\"./train/a.jpg\")\n",
    "    mat = cv2.imread(\"./predict_data/\"+filename)\n",
    "    mat = cv2.cvtColor(mat, cv2.COLOR_BGR2YCrCb)\n",
    "\n",
    "    fig, axes = plt.subplots(ncols=2,figsize=(15,10))\n",
    "    axes[0].imshow(cv2.cvtColor(mat, cv2.COLOR_YCrCb2RGB))\n",
    "    axes[0].set_title('ORIGIN')\n",
    "\n",
    "\n",
    "    LR = cv2.resize(mat,(0,0),fx=2,fy=2)\n",
    "    LRDirectImage = LR\n",
    "    LRDirectImage[:,:,2] = LRDirect\n",
    "    axes[1].imshow(cv2.cvtColor(LRDirectImage, cv2.COLOR_YCrCb2RGB))\n",
    "    img = cv2.cvtColor(LRDirectImage, cv2.COLOR_YCrCb2RGB)\n",
    "    cv2.imwrite(filename, img)\n",
    "    axes[1].set_title('RAISR')\n",
    "    fig.savefig(\"./result/\"+filename)\n",
    "print(\"Test is off\")"
   ]
  },
  {
   "cell_type": "code",
   "execution_count": null,
   "metadata": {},
   "outputs": [],
   "source": []
  }
 ],
 "metadata": {
  "kernelspec": {
   "display_name": "Python 3",
   "language": "python",
   "name": "python3"
  },
  "language_info": {
   "codemirror_mode": {
    "name": "ipython",
    "version": 3
   },
   "file_extension": ".py",
   "mimetype": "text/x-python",
   "name": "python",
   "nbconvert_exporter": "python",
   "pygments_lexer": "ipython3",
   "version": "3.7.3"
  }
 },
 "nbformat": 4,
 "nbformat_minor": 2
}
