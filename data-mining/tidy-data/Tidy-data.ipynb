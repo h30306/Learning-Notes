{
 "cells": [
  {
   "cell_type": "markdown",
   "metadata": {},
   "source": [
    "## 高中以下學校數量是否與房屋成交或房價有關係"
   ]
  },
  {
   "cell_type": "markdown",
   "metadata": {},
   "source": [
    "## import packages"
   ]
  },
  {
   "cell_type": "code",
   "execution_count": 78,
   "metadata": {},
   "outputs": [],
   "source": [
    "import pandas as pd\n",
    "import numpy as np"
   ]
  },
  {
   "cell_type": "markdown",
   "metadata": {},
   "source": [
    "## load Data"
   ]
  },
  {
   "cell_type": "code",
   "execution_count": 87,
   "metadata": {},
   "outputs": [],
   "source": [
    "tw_house = pd.read_csv(\"tw_house.csv\")\n",
    "school = pd.read_csv(\"school.csv\")"
   ]
  },
  {
   "cell_type": "markdown",
   "metadata": {},
   "source": [
    "## Processing"
   ]
  },
  {
   "cell_type": "code",
   "execution_count": 88,
   "metadata": {},
   "outputs": [
    {
     "name": "stdout",
     "output_type": "stream",
     "text": [
      "<class 'pandas.core.frame.DataFrame'>\n",
      "RangeIndex: 640 entries, 0 to 639\n",
      "Data columns (total 25 columns):\n",
      "鄉鎮市區           640 non-null object\n",
      "土地移轉總面積平方公尺    640 non-null float64\n",
      "建物移轉總面積平方公尺    640 non-null float64\n",
      "單價每平方公尺        640 non-null int64\n",
      "建物現況格局-房       640 non-null int64\n",
      "建物現況格局-廳       640 non-null int64\n",
      "建物現況格局-衛       640 non-null int64\n",
      "車位移轉總面積平方公尺    640 non-null float64\n",
      "車位總價元          640 non-null int64\n",
      "屋齡             640 non-null int64\n",
      "建築完成年          640 non-null int64\n",
      "交易年            640 non-null int64\n",
      "總價元            640 non-null float64\n",
      "中山區            640 non-null int64\n",
      "中正區            640 non-null int64\n",
      "信義區            640 non-null int64\n",
      "內湖區            640 non-null int64\n",
      "北投區            640 non-null int64\n",
      "南港區            640 non-null int64\n",
      "士林區            640 non-null int64\n",
      "大同區            640 non-null int64\n",
      "大安區            640 non-null int64\n",
      "文山區            640 non-null int64\n",
      "松山區            640 non-null int64\n",
      "萬華區            640 non-null int64\n",
      "dtypes: float64(4), int64(20), object(1)\n",
      "memory usage: 125.1+ KB\n"
     ]
    }
   ],
   "source": [
    "tw_house.info()"
   ]
  },
  {
   "cell_type": "code",
   "execution_count": 89,
   "metadata": {},
   "outputs": [
    {
     "name": "stdout",
     "output_type": "stream",
     "text": [
      "<class 'pandas.core.frame.DataFrame'>\n",
      "RangeIndex: 281 entries, 0 to 280\n",
      "Data columns (total 8 columns):\n",
      "代碼      281 non-null object\n",
      "學校名稱    281 non-null object\n",
      "公私立別    281 non-null object\n",
      "縣市名稱    281 non-null object\n",
      "地址      281 non-null object\n",
      "電話      281 non-null object\n",
      "網址      281 non-null object\n",
      "備註      0 non-null float64\n",
      "dtypes: float64(1), object(7)\n",
      "memory usage: 17.6+ KB\n"
     ]
    }
   ],
   "source": [
    "school.info()"
   ]
  },
  {
   "cell_type": "code",
   "execution_count": 90,
   "metadata": {},
   "outputs": [
    {
     "name": "stderr",
     "output_type": "stream",
     "text": [
      "/anaconda3/lib/python3.7/site-packages/ipykernel_launcher.py:1: DeprecationWarning: \n",
      ".ix is deprecated. Please use\n",
      ".loc for label based indexing or\n",
      ".iloc for positional indexing\n",
      "\n",
      "See the documentation here:\n",
      "http://pandas.pydata.org/pandas-docs/stable/indexing.html#ix-indexer-is-deprecated\n",
      "  \"\"\"Entry point for launching an IPython kernel.\n"
     ]
    }
   ],
   "source": [
    "tw_house = tw_house.ix[:,0:13]"
   ]
  },
  {
   "cell_type": "code",
   "execution_count": 91,
   "metadata": {},
   "outputs": [
    {
     "data": {
      "text/html": [
       "<div>\n",
       "<style scoped>\n",
       "    .dataframe tbody tr th:only-of-type {\n",
       "        vertical-align: middle;\n",
       "    }\n",
       "\n",
       "    .dataframe tbody tr th {\n",
       "        vertical-align: top;\n",
       "    }\n",
       "\n",
       "    .dataframe thead th {\n",
       "        text-align: right;\n",
       "    }\n",
       "</style>\n",
       "<table border=\"1\" class=\"dataframe\">\n",
       "  <thead>\n",
       "    <tr style=\"text-align: right;\">\n",
       "      <th></th>\n",
       "      <th>學校名稱</th>\n",
       "      <th>地址</th>\n",
       "    </tr>\n",
       "  </thead>\n",
       "  <tbody>\n",
       "    <tr>\n",
       "      <th>0</th>\n",
       "      <td>私立育達家商</td>\n",
       "      <td>[105]臺北市松山區美仁里寧安街12號</td>\n",
       "    </tr>\n",
       "    <tr>\n",
       "      <th>1</th>\n",
       "      <td>市立西松高中</td>\n",
       "      <td>[105]臺北市松山區鵬程里健康路325巷7號</td>\n",
       "    </tr>\n",
       "    <tr>\n",
       "      <th>2</th>\n",
       "      <td>市立中崙高中</td>\n",
       "      <td>[105]臺北市松山區八德路四段101號</td>\n",
       "    </tr>\n",
       "    <tr>\n",
       "      <th>3</th>\n",
       "      <td>臺北市私立協和祐德高級中學</td>\n",
       "      <td>[110]臺北市信義區忠孝東路5段790巷27號</td>\n",
       "    </tr>\n",
       "    <tr>\n",
       "      <th>4</th>\n",
       "      <td>市立松山高中</td>\n",
       "      <td>[110]臺北市信義區基隆路一段156號</td>\n",
       "    </tr>\n",
       "  </tbody>\n",
       "</table>\n",
       "</div>"
      ],
      "text/plain": [
       "            學校名稱                        地址\n",
       "0         私立育達家商      [105]臺北市松山區美仁里寧安街12號\n",
       "1         市立西松高中   [105]臺北市松山區鵬程里健康路325巷7號\n",
       "2         市立中崙高中      [105]臺北市松山區八德路四段101號\n",
       "3  臺北市私立協和祐德高級中學  [110]臺北市信義區忠孝東路5段790巷27號\n",
       "4         市立松山高中      [110]臺北市信義區基隆路一段156號"
      ]
     },
     "execution_count": 91,
     "metadata": {},
     "output_type": "execute_result"
    }
   ],
   "source": [
    "school = school[['學校名稱','地址']]\n",
    "school.head()"
   ]
  },
  {
   "cell_type": "code",
   "execution_count": 92,
   "metadata": {},
   "outputs": [
    {
     "data": {
      "text/html": [
       "<div>\n",
       "<style scoped>\n",
       "    .dataframe tbody tr th:only-of-type {\n",
       "        vertical-align: middle;\n",
       "    }\n",
       "\n",
       "    .dataframe tbody tr th {\n",
       "        vertical-align: top;\n",
       "    }\n",
       "\n",
       "    .dataframe thead th {\n",
       "        text-align: right;\n",
       "    }\n",
       "</style>\n",
       "<table border=\"1\" class=\"dataframe\">\n",
       "  <thead>\n",
       "    <tr style=\"text-align: right;\">\n",
       "      <th></th>\n",
       "      <th>學校名稱</th>\n",
       "      <th>地址</th>\n",
       "    </tr>\n",
       "  </thead>\n",
       "  <tbody>\n",
       "    <tr>\n",
       "      <th>0</th>\n",
       "      <td>私立育達家商</td>\n",
       "      <td>[105]臺北市松山區美仁里寧安街12號</td>\n",
       "    </tr>\n",
       "    <tr>\n",
       "      <th>1</th>\n",
       "      <td>市立西松高中</td>\n",
       "      <td>[105]臺北市松山區鵬程里健康路325巷7號</td>\n",
       "    </tr>\n",
       "    <tr>\n",
       "      <th>2</th>\n",
       "      <td>市立中崙高中</td>\n",
       "      <td>[105]臺北市松山區八德路四段101號</td>\n",
       "    </tr>\n",
       "    <tr>\n",
       "      <th>3</th>\n",
       "      <td>臺北市私立協和祐德高級中學</td>\n",
       "      <td>[110]臺北市信義區忠孝東路5段790巷27號</td>\n",
       "    </tr>\n",
       "    <tr>\n",
       "      <th>4</th>\n",
       "      <td>市立松山高中</td>\n",
       "      <td>[110]臺北市信義區基隆路一段156號</td>\n",
       "    </tr>\n",
       "  </tbody>\n",
       "</table>\n",
       "</div>"
      ],
      "text/plain": [
       "            學校名稱                        地址\n",
       "0         私立育達家商      [105]臺北市松山區美仁里寧安街12號\n",
       "1         市立西松高中   [105]臺北市松山區鵬程里健康路325巷7號\n",
       "2         市立中崙高中      [105]臺北市松山區八德路四段101號\n",
       "3  臺北市私立協和祐德高級中學  [110]臺北市信義區忠孝東路5段790巷27號\n",
       "4         市立松山高中      [110]臺北市信義區基隆路一段156號"
      ]
     },
     "execution_count": 92,
     "metadata": {},
     "output_type": "execute_result"
    }
   ],
   "source": [
    "school['地址'] = school['地址'].astype(str)\n",
    "school.head()"
   ]
  },
  {
   "cell_type": "code",
   "execution_count": 93,
   "metadata": {},
   "outputs": [
    {
     "data": {
      "text/html": [
       "<div>\n",
       "<style scoped>\n",
       "    .dataframe tbody tr th:only-of-type {\n",
       "        vertical-align: middle;\n",
       "    }\n",
       "\n",
       "    .dataframe tbody tr th {\n",
       "        vertical-align: top;\n",
       "    }\n",
       "\n",
       "    .dataframe thead th {\n",
       "        text-align: right;\n",
       "    }\n",
       "</style>\n",
       "<table border=\"1\" class=\"dataframe\">\n",
       "  <thead>\n",
       "    <tr style=\"text-align: right;\">\n",
       "      <th></th>\n",
       "      <th>學校名稱</th>\n",
       "      <th>地址</th>\n",
       "      <th>鄉鎮市區</th>\n",
       "    </tr>\n",
       "  </thead>\n",
       "  <tbody>\n",
       "    <tr>\n",
       "      <th>0</th>\n",
       "      <td>私立育達家商</td>\n",
       "      <td>[105]臺北市松山區美仁里寧安街12號</td>\n",
       "      <td>松山區</td>\n",
       "    </tr>\n",
       "    <tr>\n",
       "      <th>1</th>\n",
       "      <td>市立西松高中</td>\n",
       "      <td>[105]臺北市松山區鵬程里健康路325巷7號</td>\n",
       "      <td>松山區</td>\n",
       "    </tr>\n",
       "    <tr>\n",
       "      <th>2</th>\n",
       "      <td>市立中崙高中</td>\n",
       "      <td>[105]臺北市松山區八德路四段101號</td>\n",
       "      <td>松山區</td>\n",
       "    </tr>\n",
       "    <tr>\n",
       "      <th>3</th>\n",
       "      <td>臺北市私立協和祐德高級中學</td>\n",
       "      <td>[110]臺北市信義區忠孝東路5段790巷27號</td>\n",
       "      <td>信義區</td>\n",
       "    </tr>\n",
       "    <tr>\n",
       "      <th>4</th>\n",
       "      <td>市立松山高中</td>\n",
       "      <td>[110]臺北市信義區基隆路一段156號</td>\n",
       "      <td>信義區</td>\n",
       "    </tr>\n",
       "  </tbody>\n",
       "</table>\n",
       "</div>"
      ],
      "text/plain": [
       "            學校名稱                        地址 鄉鎮市區\n",
       "0         私立育達家商      [105]臺北市松山區美仁里寧安街12號  松山區\n",
       "1         市立西松高中   [105]臺北市松山區鵬程里健康路325巷7號  松山區\n",
       "2         市立中崙高中      [105]臺北市松山區八德路四段101號  松山區\n",
       "3  臺北市私立協和祐德高級中學  [110]臺北市信義區忠孝東路5段790巷27號  信義區\n",
       "4         市立松山高中      [110]臺北市信義區基隆路一段156號  信義區"
      ]
     },
     "execution_count": 93,
     "metadata": {},
     "output_type": "execute_result"
    }
   ],
   "source": [
    "school['鄉鎮市區'] = school['地址'].str.slice(8,11)\n",
    "school.head()"
   ]
  },
  {
   "cell_type": "code",
   "execution_count": 99,
   "metadata": {},
   "outputs": [
    {
     "data": {
      "text/html": [
       "<div>\n",
       "<style scoped>\n",
       "    .dataframe tbody tr th:only-of-type {\n",
       "        vertical-align: middle;\n",
       "    }\n",
       "\n",
       "    .dataframe tbody tr th {\n",
       "        vertical-align: top;\n",
       "    }\n",
       "\n",
       "    .dataframe thead th {\n",
       "        text-align: right;\n",
       "    }\n",
       "</style>\n",
       "<table border=\"1\" class=\"dataframe\">\n",
       "  <thead>\n",
       "    <tr style=\"text-align: right;\">\n",
       "      <th></th>\n",
       "      <th>學校數量</th>\n",
       "    </tr>\n",
       "    <tr>\n",
       "      <th>鄉鎮市區</th>\n",
       "      <th></th>\n",
       "    </tr>\n",
       "  </thead>\n",
       "  <tbody>\n",
       "    <tr>\n",
       "      <th>中山區</th>\n",
       "      <td>22</td>\n",
       "    </tr>\n",
       "    <tr>\n",
       "      <th>中正區</th>\n",
       "      <td>19</td>\n",
       "    </tr>\n",
       "    <tr>\n",
       "      <th>信義區</th>\n",
       "      <td>18</td>\n",
       "    </tr>\n",
       "    <tr>\n",
       "      <th>內湖區</th>\n",
       "      <td>26</td>\n",
       "    </tr>\n",
       "    <tr>\n",
       "      <th>北投區</th>\n",
       "      <td>28</td>\n",
       "    </tr>\n",
       "  </tbody>\n",
       "</table>\n",
       "</div>"
      ],
      "text/plain": [
       "      學校數量\n",
       "鄉鎮市區      \n",
       "中山區     22\n",
       "中正區     19\n",
       "信義區     18\n",
       "內湖區     26\n",
       "北投區     28"
      ]
     },
     "execution_count": 99,
     "metadata": {},
     "output_type": "execute_result"
    }
   ],
   "source": [
    "school_count = school.groupby('鄉鎮市區').count()\n",
    "school_count = school_count.drop('地址',axis=1)\n",
    "school_count = school_count.rename(columns={'學校名稱':'學校數量'})\n",
    "school_count.head()"
   ]
  },
  {
   "cell_type": "markdown",
   "metadata": {},
   "source": [
    "## 合併"
   ]
  },
  {
   "cell_type": "code",
   "execution_count": 100,
   "metadata": {},
   "outputs": [
    {
     "data": {
      "text/html": [
       "<div>\n",
       "<style scoped>\n",
       "    .dataframe tbody tr th:only-of-type {\n",
       "        vertical-align: middle;\n",
       "    }\n",
       "\n",
       "    .dataframe tbody tr th {\n",
       "        vertical-align: top;\n",
       "    }\n",
       "\n",
       "    .dataframe thead th {\n",
       "        text-align: right;\n",
       "    }\n",
       "</style>\n",
       "<table border=\"1\" class=\"dataframe\">\n",
       "  <thead>\n",
       "    <tr style=\"text-align: right;\">\n",
       "      <th></th>\n",
       "      <th>鄉鎮市區</th>\n",
       "      <th>總價元</th>\n",
       "      <th>學校數量</th>\n",
       "    </tr>\n",
       "  </thead>\n",
       "  <tbody>\n",
       "    <tr>\n",
       "      <th>0</th>\n",
       "      <td>大同區</td>\n",
       "      <td>1290.0</td>\n",
       "      <td>19</td>\n",
       "    </tr>\n",
       "    <tr>\n",
       "      <th>1</th>\n",
       "      <td>大同區</td>\n",
       "      <td>980.0</td>\n",
       "      <td>19</td>\n",
       "    </tr>\n",
       "    <tr>\n",
       "      <th>2</th>\n",
       "      <td>大同區</td>\n",
       "      <td>1000.0</td>\n",
       "      <td>19</td>\n",
       "    </tr>\n",
       "    <tr>\n",
       "      <th>3</th>\n",
       "      <td>大同區</td>\n",
       "      <td>2050.0</td>\n",
       "      <td>19</td>\n",
       "    </tr>\n",
       "    <tr>\n",
       "      <th>4</th>\n",
       "      <td>大同區</td>\n",
       "      <td>400.0</td>\n",
       "      <td>19</td>\n",
       "    </tr>\n",
       "  </tbody>\n",
       "</table>\n",
       "</div>"
      ],
      "text/plain": [
       "  鄉鎮市區     總價元  學校數量\n",
       "0  大同區  1290.0    19\n",
       "1  大同區   980.0    19\n",
       "2  大同區  1000.0    19\n",
       "3  大同區  2050.0    19\n",
       "4  大同區   400.0    19"
      ]
     },
     "execution_count": 100,
     "metadata": {},
     "output_type": "execute_result"
    }
   ],
   "source": [
    "tw_house = pd.merge(tw_house,school_count, on = '鄉鎮市區')\n",
    "tw_house = tw_house[['鄉鎮市區','總價元','學校數量']]\n",
    "tw_house.head()"
   ]
  },
  {
   "cell_type": "code",
   "execution_count": 102,
   "metadata": {},
   "outputs": [
    {
     "data": {
      "text/html": [
       "<div>\n",
       "<style scoped>\n",
       "    .dataframe tbody tr th:only-of-type {\n",
       "        vertical-align: middle;\n",
       "    }\n",
       "\n",
       "    .dataframe tbody tr th {\n",
       "        vertical-align: top;\n",
       "    }\n",
       "\n",
       "    .dataframe thead th {\n",
       "        text-align: right;\n",
       "    }\n",
       "</style>\n",
       "<table border=\"1\" class=\"dataframe\">\n",
       "  <thead>\n",
       "    <tr style=\"text-align: right;\">\n",
       "      <th></th>\n",
       "      <th>總價元</th>\n",
       "      <th>學校數量</th>\n",
       "    </tr>\n",
       "    <tr>\n",
       "      <th>鄉鎮市區</th>\n",
       "      <th></th>\n",
       "      <th></th>\n",
       "    </tr>\n",
       "  </thead>\n",
       "  <tbody>\n",
       "    <tr>\n",
       "      <th>中山區</th>\n",
       "      <td>2047.156811</td>\n",
       "      <td>22</td>\n",
       "    </tr>\n",
       "    <tr>\n",
       "      <th>中正區</th>\n",
       "      <td>2407.794918</td>\n",
       "      <td>19</td>\n",
       "    </tr>\n",
       "    <tr>\n",
       "      <th>信義區</th>\n",
       "      <td>2545.463951</td>\n",
       "      <td>18</td>\n",
       "    </tr>\n",
       "    <tr>\n",
       "      <th>內湖區</th>\n",
       "      <td>2473.346847</td>\n",
       "      <td>26</td>\n",
       "    </tr>\n",
       "    <tr>\n",
       "      <th>北投區</th>\n",
       "      <td>1960.550000</td>\n",
       "      <td>28</td>\n",
       "    </tr>\n",
       "    <tr>\n",
       "      <th>南港區</th>\n",
       "      <td>2990.178571</td>\n",
       "      <td>12</td>\n",
       "    </tr>\n",
       "    <tr>\n",
       "      <th>士林區</th>\n",
       "      <td>3244.573075</td>\n",
       "      <td>33</td>\n",
       "    </tr>\n",
       "    <tr>\n",
       "      <th>大同區</th>\n",
       "      <td>1690.912222</td>\n",
       "      <td>19</td>\n",
       "    </tr>\n",
       "    <tr>\n",
       "      <th>大安區</th>\n",
       "      <td>3413.413889</td>\n",
       "      <td>32</td>\n",
       "    </tr>\n",
       "    <tr>\n",
       "      <th>文山區</th>\n",
       "      <td>1727.797373</td>\n",
       "      <td>39</td>\n",
       "    </tr>\n",
       "    <tr>\n",
       "      <th>松山區</th>\n",
       "      <td>2077.621744</td>\n",
       "      <td>15</td>\n",
       "    </tr>\n",
       "    <tr>\n",
       "      <th>萬華區</th>\n",
       "      <td>1015.570377</td>\n",
       "      <td>18</td>\n",
       "    </tr>\n",
       "  </tbody>\n",
       "</table>\n",
       "</div>"
      ],
      "text/plain": [
       "              總價元  學校數量\n",
       "鄉鎮市區                   \n",
       "中山區   2047.156811    22\n",
       "中正區   2407.794918    19\n",
       "信義區   2545.463951    18\n",
       "內湖區   2473.346847    26\n",
       "北投區   1960.550000    28\n",
       "南港區   2990.178571    12\n",
       "士林區   3244.573075    33\n",
       "大同區   1690.912222    19\n",
       "大安區   3413.413889    32\n",
       "文山區   1727.797373    39\n",
       "松山區   2077.621744    15\n",
       "萬華區   1015.570377    18"
      ]
     },
     "execution_count": 102,
     "metadata": {},
     "output_type": "execute_result"
    }
   ],
   "source": [
    "price = tw_house.groupby('鄉鎮市區').mean()\n",
    "price"
   ]
  },
  {
   "cell_type": "code",
   "execution_count": 104,
   "metadata": {},
   "outputs": [
    {
     "data": {
      "text/plain": [
       "<matplotlib.collections.PathCollection at 0x118b4c6d8>"
      ]
     },
     "execution_count": 104,
     "metadata": {},
     "output_type": "execute_result"
    },
    {
     "data": {
      "image/png": "[encoded data removed]",
      "text/plain": [
       "<Figure size 432x288 with 1 Axes>"
      ]
     },
     "metadata": {
      "needs_background": "light"
     },
     "output_type": "display_data"
    }
   ],
   "source": [
    "import matplotlib.pyplot as plt\n",
    "\n",
    "%matplotlib inline\n",
    "\n",
    "plt.scatter(price['總價元'],price['學校數量'])"
   ]
  },
  {
   "cell_type": "code",
   "execution_count": null,
   "metadata": {},
   "outputs": [],
   "source": []
  }
 ],
 "metadata": {
  "kernelspec": {
   "display_name": "Python 3",
   "language": "python",
   "name": "python3"
  },
  "language_info": {
   "codemirror_mode": {
    "name": "ipython",
    "version": 3
   },
   "file_extension": ".py",
   "mimetype": "text/x-python",
   "name": "python",
   "nbconvert_exporter": "python",
   "pygments_lexer": "ipython3",
   "version": "3.7.3"
  }
 },
 "nbformat": 4,
 "nbformat_minor": 2
}
