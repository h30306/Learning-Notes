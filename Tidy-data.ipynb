{
 "cells": [
  {
   "cell_type": "markdown",
   "metadata": {},
   "source": [
    "## import packages"
   ]
  },
  {
   "cell_type": "code",
   "execution_count": 3,
   "metadata": {},
   "outputs": [],
   "source": [
    "import pandas as pd\n",
    "import numpy as np"
   ]
  },
  {
   "cell_type": "markdown",
   "metadata": {},
   "source": [
    "## load Data"
   ]
  },
  {
   "cell_type": "code",
   "execution_count": 14,
   "metadata": {},
   "outputs": [],
   "source": [
    "price = pd.read_csv(\"price.csv\")\n",
    "company = pd.read_csv(\"company.csv\")"
   ]
  },
  {
   "cell_type": "code",
   "execution_count": 15,
   "metadata": {},
   "outputs": [
    {
     "data": {
      "text/html": [
       "<div>\n",
       "<style scoped>\n",
       "    .dataframe tbody tr th:only-of-type {\n",
       "        vertical-align: middle;\n",
       "    }\n",
       "\n",
       "    .dataframe tbody tr th {\n",
       "        vertical-align: top;\n",
       "    }\n",
       "\n",
       "    .dataframe thead th {\n",
       "        text-align: right;\n",
       "    }\n",
       "</style>\n",
       "<table border=\"1\" class=\"dataframe\">\n",
       "  <thead>\n",
       "    <tr style=\"text-align: right;\">\n",
       "      <th></th>\n",
       "      <th>Dates</th>\n",
       "      <th>price</th>\n",
       "    </tr>\n",
       "  </thead>\n",
       "  <tbody>\n",
       "    <tr>\n",
       "      <th>0</th>\n",
       "      <td>2018/12/3</td>\n",
       "      <td>231.0</td>\n",
       "    </tr>\n",
       "    <tr>\n",
       "      <th>1</th>\n",
       "      <td>2018/12/4</td>\n",
       "      <td>233.0</td>\n",
       "    </tr>\n",
       "    <tr>\n",
       "      <th>2</th>\n",
       "      <td>2018/12/5</td>\n",
       "      <td>226.5</td>\n",
       "    </tr>\n",
       "    <tr>\n",
       "      <th>3</th>\n",
       "      <td>2018/12/6</td>\n",
       "      <td>220.0</td>\n",
       "    </tr>\n",
       "    <tr>\n",
       "      <th>4</th>\n",
       "      <td>2018/12/7</td>\n",
       "      <td>222.5</td>\n",
       "    </tr>\n",
       "  </tbody>\n",
       "</table>\n",
       "</div>"
      ],
      "text/plain": [
       "       Dates  price\n",
       "0  2018/12/3  231.0\n",
       "1  2018/12/4  233.0\n",
       "2  2018/12/5  226.5\n",
       "3  2018/12/6  220.0\n",
       "4  2018/12/7  222.5"
      ]
     },
     "execution_count": 15,
     "metadata": {},
     "output_type": "execute_result"
    }
   ],
   "source": [
    "price.head()"
   ]
  },
  {
   "cell_type": "code",
   "execution_count": 16,
   "metadata": {},
   "outputs": [
    {
     "data": {
      "text/html": [
       "<div>\n",
       "<style scoped>\n",
       "    .dataframe tbody tr th:only-of-type {\n",
       "        vertical-align: middle;\n",
       "    }\n",
       "\n",
       "    .dataframe tbody tr th {\n",
       "        vertical-align: top;\n",
       "    }\n",
       "\n",
       "    .dataframe thead th {\n",
       "        text-align: right;\n",
       "    }\n",
       "</style>\n",
       "<table border=\"1\" class=\"dataframe\">\n",
       "  <thead>\n",
       "    <tr style=\"text-align: right;\">\n",
       "      <th></th>\n",
       "      <th>company</th>\n",
       "      <th>市值(百萬台幣)</th>\n",
       "      <th>存託憑證</th>\n",
       "      <th>交易所</th>\n",
       "      <th>交易所名稱</th>\n",
       "      <th>交易日時區</th>\n",
       "      <th>交易開始時間</th>\n",
       "      <th>交易結束時間</th>\n",
       "      <th>幣別</th>\n",
       "      <th>貨幣轉換目前匯率</th>\n",
       "      <th>種類</th>\n",
       "      <th>換股比率</th>\n",
       "      <th>最新價格</th>\n",
       "      <th>轉換價格</th>\n",
       "    </tr>\n",
       "  </thead>\n",
       "  <tbody>\n",
       "    <tr>\n",
       "      <th>0</th>\n",
       "      <td>2330    TT Equity</td>\n",
       "      <td>6,404,804</td>\n",
       "      <td>TSM US Equity</td>\n",
       "      <td>US</td>\n",
       "      <td>New York</td>\n",
       "      <td>2019/6/20</td>\n",
       "      <td>下午 09:30:00</td>\n",
       "      <td>上午 04:30:00</td>\n",
       "      <td>USD</td>\n",
       "      <td>31.0200</td>\n",
       "      <td>ADR</td>\n",
       "      <td>5</td>\n",
       "      <td>40.51</td>\n",
       "      <td>251.3240</td>\n",
       "    </tr>\n",
       "    <tr>\n",
       "      <th>1</th>\n",
       "      <td>2330    TT Equity</td>\n",
       "      <td>6,404,804</td>\n",
       "      <td>TSFA GR Equity</td>\n",
       "      <td>GR</td>\n",
       "      <td>Frankfurt</td>\n",
       "      <td>2019/6/20</td>\n",
       "      <td>下午 02:00:00</td>\n",
       "      <td>上午 04:00:00</td>\n",
       "      <td>EUR</td>\n",
       "      <td>35.0557</td>\n",
       "      <td>ADR</td>\n",
       "      <td>5</td>\n",
       "      <td>35.80</td>\n",
       "      <td>250.9988</td>\n",
       "    </tr>\n",
       "  </tbody>\n",
       "</table>\n",
       "</div>"
      ],
      "text/plain": [
       "             company    市值(百萬台幣)            存託憑證 交易所      交易所名稱      交易日時區  \\\n",
       "0  2330    TT Equity  6,404,804    TSM US Equity  US   New York  2019/6/20   \n",
       "1  2330    TT Equity  6,404,804   TSFA GR Equity  GR  Frankfurt  2019/6/20   \n",
       "\n",
       "        交易開始時間       交易結束時間   幣別  貨幣轉換目前匯率   種類  換股比率   最新價格      轉換價格  \n",
       "0  下午 09:30:00  上午 04:30:00  USD   31.0200  ADR     5  40.51  251.3240  \n",
       "1  下午 02:00:00  上午 04:00:00  EUR   35.0557  ADR     5  35.80  250.9988  "
      ]
     },
     "execution_count": 16,
     "metadata": {},
     "output_type": "execute_result"
    }
   ],
   "source": [
    "company.head()"
   ]
  },
  {
   "cell_type": "code",
   "execution_count": null,
   "metadata": {},
   "outputs": [],
   "source": []
  }
 ],
 "metadata": {
  "kernelspec": {
   "display_name": "Python 3",
   "language": "python",
   "name": "python3"
  },
  "language_info": {
   "codemirror_mode": {
    "name": "ipython",
    "version": 3
   },
   "file_extension": ".py",
   "mimetype": "text/x-python",
   "name": "python",
   "nbconvert_exporter": "python",
   "pygments_lexer": "ipython3",
   "version": "3.7.3"
  }
 },
 "nbformat": 4,
 "nbformat_minor": 2
}
